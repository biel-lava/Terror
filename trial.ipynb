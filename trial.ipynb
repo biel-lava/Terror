{
 "cells": [
  {
   "cell_type": "code",
   "execution_count": 1,
   "metadata": {},
   "outputs": [],
   "source": [
    "import pandas as pd"
   ]
  },
  {
   "cell_type": "code",
   "execution_count": 2,
   "metadata": {},
   "outputs": [],
   "source": [
    "df = pd.read_csv('terrorist-attacks.csv')"
   ]
  },
  {
   "cell_type": "code",
   "execution_count": 4,
   "metadata": {},
   "outputs": [
    {
     "data": {
      "text/plain": [
       "(10517, 21)"
      ]
     },
     "execution_count": 4,
     "metadata": {},
     "output_type": "execute_result"
    }
   ],
   "source": [
    "df.shape"
   ]
  },
  {
   "cell_type": "code",
   "execution_count": 5,
   "metadata": {},
   "outputs": [
    {
     "data": {
      "text/plain": [
       "['Entity',\n",
       " 'Code',\n",
       " 'Year',\n",
       " 'Terrorist attacks',\n",
       " 'Terrorism deaths',\n",
       " 'Attack method: Hijacking',\n",
       " 'Attack method: Hostage Taking (Barricade Incident)',\n",
       " 'Attack method: Unarmed Assault',\n",
       " 'Attack method: Facility/Infrastructure Attack',\n",
       " 'Attack method: Hostage Taking (Kidnapping)',\n",
       " 'Attack method: Assassination',\n",
       " 'Attack method: Armed Assault',\n",
       " 'Attack method: Bombing/Explosion',\n",
       " 'Death Age 100+',\n",
       " 'Death Age: 51-99 ',\n",
       " 'Death Age : 21-50 ',\n",
       " 'Death Age : 11-20 ',\n",
       " 'Death Age : 6-10 ',\n",
       " 'Death Age :  1-5',\n",
       " 'Terrorist Death Type : Suicide',\n",
       " 'Terrorist Death Type : Killed']"
      ]
     },
     "execution_count": 5,
     "metadata": {},
     "output_type": "execute_result"
    }
   ],
   "source": [
    "df.columns.to_list()"
   ]
  },
  {
   "cell_type": "code",
   "execution_count": 6,
   "metadata": {},
   "outputs": [
    {
     "data": {
      "text/plain": [
       "<bound method DataFrame.info of             Entity Code  Year  Terrorist attacks  Terrorism deaths  \\\n",
       "0      Afghanistan  AFG  1970                  0                 0   \n",
       "1      Afghanistan  AFG  1971                  0                 0   \n",
       "2      Afghanistan  AFG  1972                  0                 0   \n",
       "3      Afghanistan  AFG  1973                  1                 0   \n",
       "4      Afghanistan  AFG  1974                  0                 0   \n",
       "...            ...  ...   ...                ...               ...   \n",
       "10512     Zimbabwe  ZWE  2017                  3                 0   \n",
       "10513     Zimbabwe  ZWE  2018                  2                 2   \n",
       "10514     Zimbabwe  ZWE  2019                  2                 0   \n",
       "10515     Zimbabwe  ZWE  2020                  1                 1   \n",
       "10516     Zimbabwe  ZWE  2021                  0                 0   \n",
       "\n",
       "       Attack method: Hijacking  \\\n",
       "0                             0   \n",
       "1                             0   \n",
       "2                             0   \n",
       "3                             0   \n",
       "4                             0   \n",
       "...                         ...   \n",
       "10512                         0   \n",
       "10513                         0   \n",
       "10514                         0   \n",
       "10515                         0   \n",
       "10516                         0   \n",
       "\n",
       "       Attack method: Hostage Taking (Barricade Incident)  \\\n",
       "0                                                      0    \n",
       "1                                                      0    \n",
       "2                                                      0    \n",
       "3                                                      0    \n",
       "4                                                      0    \n",
       "...                                                  ...    \n",
       "10512                                                  1    \n",
       "10513                                                  0    \n",
       "10514                                                  0    \n",
       "10515                                                  0    \n",
       "10516                                                  0    \n",
       "\n",
       "       Attack method: Unarmed Assault  \\\n",
       "0                                   0   \n",
       "1                                   0   \n",
       "2                                   0   \n",
       "3                                   0   \n",
       "4                                   0   \n",
       "...                               ...   \n",
       "10512                               0   \n",
       "10513                               0   \n",
       "10514                               0   \n",
       "10515                               0   \n",
       "10516                               0   \n",
       "\n",
       "       Attack method: Facility/Infrastructure Attack  \\\n",
       "0                                                  0   \n",
       "1                                                  0   \n",
       "2                                                  0   \n",
       "3                                                  0   \n",
       "4                                                  0   \n",
       "...                                              ...   \n",
       "10512                                              2   \n",
       "10513                                              0   \n",
       "10514                                              1   \n",
       "10515                                              0   \n",
       "10516                                              0   \n",
       "\n",
       "       Attack method: Hostage Taking (Kidnapping)  ...  \\\n",
       "0                                               0  ...   \n",
       "1                                               0  ...   \n",
       "2                                               0  ...   \n",
       "3                                               0  ...   \n",
       "4                                               0  ...   \n",
       "...                                           ...  ...   \n",
       "10512                                           0  ...   \n",
       "10513                                           0  ...   \n",
       "10514                                           0  ...   \n",
       "10515                                           0  ...   \n",
       "10516                                           0  ...   \n",
       "\n",
       "       Attack method: Armed Assault  Attack method: Bombing/Explosion  \\\n",
       "0                                 0                                 0   \n",
       "1                                 0                                 0   \n",
       "2                                 0                                 0   \n",
       "3                                 0                                 0   \n",
       "4                                 0                                 0   \n",
       "...                             ...                               ...   \n",
       "10512                             0                                 0   \n",
       "10513                             1                                 0   \n",
       "10514                             1                                 0   \n",
       "10515                             1                                 0   \n",
       "10516                             0                                 0   \n",
       "\n",
       "       Death Age 100+  Death Age: 51-99   Death Age : 21-50   \\\n",
       "0                   0                  0                   0   \n",
       "1                   0                  0                   0   \n",
       "2                   0                  0                   0   \n",
       "3                   0                  0                   0   \n",
       "4                   0                  0                   0   \n",
       "...               ...                ...                 ...   \n",
       "10512               0                  0                   0   \n",
       "10513               0                  0                   0   \n",
       "10514               0                  0                   0   \n",
       "10515               0                  0                   0   \n",
       "10516               0                  0                   0   \n",
       "\n",
       "       Death Age : 11-20   Death Age : 6-10   Death Age :  1-5  \\\n",
       "0                       0                  0                 0   \n",
       "1                       0                  0                 0   \n",
       "2                       0                  0                 0   \n",
       "3                       0                  0                 0   \n",
       "4                       0                  0                 0   \n",
       "...                   ...                ...               ...   \n",
       "10512                   0                  0                 0   \n",
       "10513                   0                  0                 1   \n",
       "10514                   0                  0                 0   \n",
       "10515                   0                  0                 1   \n",
       "10516                   0                  0                 0   \n",
       "\n",
       "       Terrorist Death Type : Suicide  Terrorist Death Type : Killed  \n",
       "0                                   0                              0  \n",
       "1                                   0                              0  \n",
       "2                                   0                              0  \n",
       "3                                   0                              0  \n",
       "4                                   0                              0  \n",
       "...                               ...                            ...  \n",
       "10512                               0                              0  \n",
       "10513                               0                              2  \n",
       "10514                               0                              0  \n",
       "10515                               0                              1  \n",
       "10516                               0                              0  \n",
       "\n",
       "[10517 rows x 21 columns]>"
      ]
     },
     "execution_count": 6,
     "metadata": {},
     "output_type": "execute_result"
    }
   ],
   "source": [
    "df.info"
   ]
  },
  {
   "cell_type": "code",
   "execution_count": 7,
   "metadata": {},
   "outputs": [
    {
     "name": "stdout",
     "output_type": "stream",
     "text": [
      "<class 'pandas.core.frame.DataFrame'>\n",
      "RangeIndex: 10517 entries, 0 to 10516\n",
      "Data columns (total 21 columns):\n",
      " #   Column                                              Non-Null Count  Dtype \n",
      "---  ------                                              --------------  ----- \n",
      " 0   Entity                                              10517 non-null  object\n",
      " 1   Code                                                9263 non-null   object\n",
      " 2   Year                                                10517 non-null  int64 \n",
      " 3   Terrorist attacks                                   10517 non-null  int64 \n",
      " 4   Terrorism deaths                                    10517 non-null  int64 \n",
      " 5   Attack method: Hijacking                            10517 non-null  int64 \n",
      " 6   Attack method: Hostage Taking (Barricade Incident)  10517 non-null  int64 \n",
      " 7   Attack method: Unarmed Assault                      10517 non-null  int64 \n",
      " 8   Attack method: Facility/Infrastructure Attack       10517 non-null  int64 \n",
      " 9   Attack method: Hostage Taking (Kidnapping)          10517 non-null  int64 \n",
      " 10  Attack method: Assassination                        10517 non-null  int64 \n",
      " 11  Attack method: Armed Assault                        10517 non-null  int64 \n",
      " 12  Attack method: Bombing/Explosion                    10517 non-null  int64 \n",
      " 13  Death Age 100+                                      10517 non-null  int64 \n",
      " 14  Death Age: 51-99                                    10517 non-null  int64 \n",
      " 15  Death Age : 21-50                                   10517 non-null  int64 \n",
      " 16  Death Age : 11-20                                   10517 non-null  int64 \n",
      " 17  Death Age : 6-10                                    10517 non-null  int64 \n",
      " 18  Death Age :  1-5                                    10517 non-null  int64 \n",
      " 19  Terrorist Death Type : Suicide                      10517 non-null  int64 \n",
      " 20  Terrorist Death Type : Killed                       10517 non-null  int64 \n",
      "dtypes: int64(19), object(2)\n",
      "memory usage: 1.7+ MB\n"
     ]
    }
   ],
   "source": [
    "df.info()"
   ]
  },
  {
   "cell_type": "code",
   "execution_count": null,
   "metadata": {},
   "outputs": [],
   "source": []
  }
 ],
 "metadata": {
  "kernelspec": {
   "display_name": "Python 3",
   "language": "python",
   "name": "python3"
  },
  "language_info": {
   "codemirror_mode": {
    "name": "ipython",
    "version": 3
   },
   "file_extension": ".py",
   "mimetype": "text/x-python",
   "name": "python",
   "nbconvert_exporter": "python",
   "pygments_lexer": "ipython3",
   "version": "3.11.0"
  }
 },
 "nbformat": 4,
 "nbformat_minor": 2
}
