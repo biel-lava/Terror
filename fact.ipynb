{
 "cells": [
  {
   "cell_type": "code",
   "execution_count": 2,
   "metadata": {},
   "outputs": [],
   "source": [
    "import pandas as pd\n",
    "pd.set_option('display.max_columns', None)\n",
    "pd.set_option('display.max_rows', None)"
   ]
  },
  {
   "cell_type": "markdown",
   "metadata": {},
   "source": [
    "# Creating a dataframe from the reference table"
   ]
  },
  {
   "cell_type": "code",
   "execution_count": 9,
   "metadata": {},
   "outputs": [],
   "source": [
    "link = 'https://en.wikipedia.org/wiki/List_of_cities_and_municipalities_in_the_Philippines'\n",
    "df_data = pd.read_html(link)\n"
   ]
  },
  {
   "cell_type": "markdown",
   "metadata": {},
   "source": [
    "## Filtering the relevant columns"
   ]
  },
  {
   "cell_type": "code",
   "execution_count": 10,
   "metadata": {},
   "outputs": [
    {
     "data": {
      "text/html": [
       "<div>\n",
       "<style scoped>\n",
       "    .dataframe tbody tr th:only-of-type {\n",
       "        vertical-align: middle;\n",
       "    }\n",
       "\n",
       "    .dataframe tbody tr th {\n",
       "        vertical-align: top;\n",
       "    }\n",
       "\n",
       "    .dataframe thead th {\n",
       "        text-align: right;\n",
       "    }\n",
       "</style>\n",
       "<table border=\"1\" class=\"dataframe\">\n",
       "  <thead>\n",
       "    <tr style=\"text-align: right;\">\n",
       "      <th></th>\n",
       "      <th>City or municipality</th>\n",
       "      <th>Population (2020)[1]</th>\n",
       "      <th>Area (km2)[a]</th>\n",
       "      <th>PD (2020)</th>\n",
       "      <th>Brgy.</th>\n",
       "      <th>Class</th>\n",
       "      <th>Province</th>\n",
       "      <th>Unnamed: 7</th>\n",
       "      <th>Unnamed: 8</th>\n",
       "      <th>Unnamed: 9</th>\n",
       "    </tr>\n",
       "  </thead>\n",
       "  <tbody>\n",
       "    <tr>\n",
       "      <th>0</th>\n",
       "      <td>Bangued*</td>\n",
       "      <td>50382</td>\n",
       "      <td>105.70</td>\n",
       "      <td>476.65</td>\n",
       "      <td>31</td>\n",
       "      <td>Mun</td>\n",
       "      <td>Abra</td>\n",
       "      <td>NaN</td>\n",
       "      <td>NaN</td>\n",
       "      <td>NaN</td>\n",
       "    </tr>\n",
       "    <tr>\n",
       "      <th>1</th>\n",
       "      <td>Boliney</td>\n",
       "      <td>4551</td>\n",
       "      <td>216.92</td>\n",
       "      <td>20.98</td>\n",
       "      <td>8</td>\n",
       "      <td>Mun</td>\n",
       "      <td>Abra</td>\n",
       "      <td>NaN</td>\n",
       "      <td>NaN</td>\n",
       "      <td>NaN</td>\n",
       "    </tr>\n",
       "    <tr>\n",
       "      <th>2</th>\n",
       "      <td>Bucay</td>\n",
       "      <td>17953</td>\n",
       "      <td>102.16</td>\n",
       "      <td>175.73</td>\n",
       "      <td>21</td>\n",
       "      <td>Mun</td>\n",
       "      <td>Abra</td>\n",
       "      <td>NaN</td>\n",
       "      <td>NaN</td>\n",
       "      <td>NaN</td>\n",
       "    </tr>\n",
       "    <tr>\n",
       "      <th>3</th>\n",
       "      <td>Bucloc</td>\n",
       "      <td>2395</td>\n",
       "      <td>63.77</td>\n",
       "      <td>37.56</td>\n",
       "      <td>4</td>\n",
       "      <td>Mun</td>\n",
       "      <td>Abra</td>\n",
       "      <td>NaN</td>\n",
       "      <td>NaN</td>\n",
       "      <td>NaN</td>\n",
       "    </tr>\n",
       "    <tr>\n",
       "      <th>4</th>\n",
       "      <td>Daguioman</td>\n",
       "      <td>2019</td>\n",
       "      <td>114.37</td>\n",
       "      <td>17.65</td>\n",
       "      <td>4</td>\n",
       "      <td>Mun</td>\n",
       "      <td>Abra</td>\n",
       "      <td>NaN</td>\n",
       "      <td>NaN</td>\n",
       "      <td>NaN</td>\n",
       "    </tr>\n",
       "  </tbody>\n",
       "</table>\n",
       "</div>"
      ],
      "text/plain": [
       "  City or municipality Population (2020)[1] Area (km2)[a] PD (2020) Brgy.  \\\n",
       "0             Bangued*                50382        105.70    476.65    31   \n",
       "1              Boliney                 4551        216.92     20.98     8   \n",
       "2                Bucay                17953        102.16    175.73    21   \n",
       "3               Bucloc                 2395         63.77     37.56     4   \n",
       "4            Daguioman                 2019        114.37     17.65     4   \n",
       "\n",
       "  Class Province Unnamed: 7 Unnamed: 8 Unnamed: 9  \n",
       "0   Mun     Abra        NaN        NaN        NaN  \n",
       "1   Mun     Abra        NaN        NaN        NaN  \n",
       "2   Mun     Abra        NaN        NaN        NaN  \n",
       "3   Mun     Abra        NaN        NaN        NaN  \n",
       "4   Mun     Abra        NaN        NaN        NaN  "
      ]
     },
     "execution_count": 10,
     "metadata": {},
     "output_type": "execute_result"
    }
   ],
   "source": [
    "df_raw = df_data[2]\n",
    "df_raw.head()\n"
   ]
  },
  {
   "cell_type": "code",
   "execution_count": 13,
   "metadata": {},
   "outputs": [
    {
     "data": {
      "text/html": [
       "<div>\n",
       "<style scoped>\n",
       "    .dataframe tbody tr th:only-of-type {\n",
       "        vertical-align: middle;\n",
       "    }\n",
       "\n",
       "    .dataframe tbody tr th {\n",
       "        vertical-align: top;\n",
       "    }\n",
       "\n",
       "    .dataframe thead th {\n",
       "        text-align: right;\n",
       "    }\n",
       "</style>\n",
       "<table border=\"1\" class=\"dataframe\">\n",
       "  <thead>\n",
       "    <tr style=\"text-align: right;\">\n",
       "      <th></th>\n",
       "      <th>Province</th>\n",
       "      <th>Class</th>\n",
       "      <th>City or municipality</th>\n",
       "    </tr>\n",
       "  </thead>\n",
       "  <tbody>\n",
       "    <tr>\n",
       "      <th>0</th>\n",
       "      <td>Abra</td>\n",
       "      <td>Mun</td>\n",
       "      <td>Bangued*</td>\n",
       "    </tr>\n",
       "    <tr>\n",
       "      <th>1</th>\n",
       "      <td>Abra</td>\n",
       "      <td>Mun</td>\n",
       "      <td>Boliney</td>\n",
       "    </tr>\n",
       "    <tr>\n",
       "      <th>2</th>\n",
       "      <td>Abra</td>\n",
       "      <td>Mun</td>\n",
       "      <td>Bucay</td>\n",
       "    </tr>\n",
       "    <tr>\n",
       "      <th>3</th>\n",
       "      <td>Abra</td>\n",
       "      <td>Mun</td>\n",
       "      <td>Bucloc</td>\n",
       "    </tr>\n",
       "    <tr>\n",
       "      <th>4</th>\n",
       "      <td>Abra</td>\n",
       "      <td>Mun</td>\n",
       "      <td>Daguioman</td>\n",
       "    </tr>\n",
       "  </tbody>\n",
       "</table>\n",
       "</div>"
      ],
      "text/plain": [
       "  Province Class City or municipality\n",
       "0     Abra   Mun             Bangued*\n",
       "1     Abra   Mun              Boliney\n",
       "2     Abra   Mun                Bucay\n",
       "3     Abra   Mun               Bucloc\n",
       "4     Abra   Mun            Daguioman"
      ]
     },
     "execution_count": 13,
     "metadata": {},
     "output_type": "execute_result"
    }
   ],
   "source": [
    "col_data = [\"Province\", \"Class\", \"City or municipality\"]\n",
    "df_prov = df_raw[col_data]\n",
    "df_prov.head()"
   ]
  },
  {
   "cell_type": "markdown",
   "metadata": {},
   "source": [
    "### Cleaning the entries for the municipalities"
   ]
  },
  {
   "cell_type": "code",
   "execution_count": 16,
   "metadata": {},
   "outputs": [
    {
     "name": "stderr",
     "output_type": "stream",
     "text": [
      "C:\\Users\\Biel Lava\\AppData\\Local\\Temp\\ipykernel_20876\\3749907345.py:1: FutureWarning: The default value of regex will change from True to False in a future version. In addition, single character regular expressions will *not* be treated as literal strings when regex=True.\n",
      "  df_prov['City or municipality'] = df_prov['City or municipality'].str.replace('*', '') # removes the * in the entries under municipalities\n",
      "C:\\Users\\Biel Lava\\AppData\\Local\\Temp\\ipykernel_20876\\3749907345.py:1: SettingWithCopyWarning: \n",
      "A value is trying to be set on a copy of a slice from a DataFrame.\n",
      "Try using .loc[row_indexer,col_indexer] = value instead\n",
      "\n",
      "See the caveats in the documentation: https://pandas.pydata.org/pandas-docs/stable/user_guide/indexing.html#returning-a-view-versus-a-copy\n",
      "  df_prov['City or municipality'] = df_prov['City or municipality'].str.replace('*', '') # removes the * in the entries under municipalities\n"
     ]
    },
    {
     "data": {
      "text/html": [
       "<div>\n",
       "<style scoped>\n",
       "    .dataframe tbody tr th:only-of-type {\n",
       "        vertical-align: middle;\n",
       "    }\n",
       "\n",
       "    .dataframe tbody tr th {\n",
       "        vertical-align: top;\n",
       "    }\n",
       "\n",
       "    .dataframe thead th {\n",
       "        text-align: right;\n",
       "    }\n",
       "</style>\n",
       "<table border=\"1\" class=\"dataframe\">\n",
       "  <thead>\n",
       "    <tr style=\"text-align: right;\">\n",
       "      <th></th>\n",
       "      <th>Province</th>\n",
       "      <th>Class</th>\n",
       "      <th>City or municipality</th>\n",
       "    </tr>\n",
       "  </thead>\n",
       "  <tbody>\n",
       "    <tr>\n",
       "      <th>0</th>\n",
       "      <td>Abra</td>\n",
       "      <td>Mun</td>\n",
       "      <td>Bangued</td>\n",
       "    </tr>\n",
       "    <tr>\n",
       "      <th>1</th>\n",
       "      <td>Abra</td>\n",
       "      <td>Mun</td>\n",
       "      <td>Boliney</td>\n",
       "    </tr>\n",
       "    <tr>\n",
       "      <th>2</th>\n",
       "      <td>Abra</td>\n",
       "      <td>Mun</td>\n",
       "      <td>Bucay</td>\n",
       "    </tr>\n",
       "    <tr>\n",
       "      <th>3</th>\n",
       "      <td>Abra</td>\n",
       "      <td>Mun</td>\n",
       "      <td>Bucloc</td>\n",
       "    </tr>\n",
       "    <tr>\n",
       "      <th>4</th>\n",
       "      <td>Abra</td>\n",
       "      <td>Mun</td>\n",
       "      <td>Daguioman</td>\n",
       "    </tr>\n",
       "  </tbody>\n",
       "</table>\n",
       "</div>"
      ],
      "text/plain": [
       "  Province Class City or municipality\n",
       "0     Abra   Mun              Bangued\n",
       "1     Abra   Mun              Boliney\n",
       "2     Abra   Mun                Bucay\n",
       "3     Abra   Mun               Bucloc\n",
       "4     Abra   Mun            Daguioman"
      ]
     },
     "execution_count": 16,
     "metadata": {},
     "output_type": "execute_result"
    }
   ],
   "source": [
    "df_prov['City or municipality'] = df_prov['City or municipality'].str.replace('*', '') # removes the * in the entries under municipalities\n",
    "df_prov.head()"
   ]
  },
  {
   "cell_type": "code",
   "execution_count": 18,
   "metadata": {},
   "outputs": [
    {
     "data": {
      "text/plain": [
       "(1635, 3)"
      ]
     },
     "execution_count": 18,
     "metadata": {},
     "output_type": "execute_result"
    }
   ],
   "source": [
    "df_prov.shape"
   ]
  },
  {
   "cell_type": "markdown",
   "metadata": {},
   "source": [
    "## Creating a CSV for the municipalities and cities list"
   ]
  },
  {
   "cell_type": "code",
   "execution_count": null,
   "metadata": {},
   "outputs": [],
   "source": [
    "df_prov.to_csv('D:\\Documents\\Operation UPSKILL\\Side Projects\\Terrorism Project\\prov1.csv')"
   ]
  }
 ],
 "metadata": {
  "kernelspec": {
   "display_name": "Python 3",
   "language": "python",
   "name": "python3"
  },
  "language_info": {
   "codemirror_mode": {
    "name": "ipython",
    "version": 3
   },
   "file_extension": ".py",
   "mimetype": "text/x-python",
   "name": "python",
   "nbconvert_exporter": "python",
   "pygments_lexer": "ipython3",
   "version": "3.11.0"
  }
 },
 "nbformat": 4,
 "nbformat_minor": 2
}
