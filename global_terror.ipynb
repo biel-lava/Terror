{
 "cells": [
  {
   "cell_type": "code",
   "execution_count": 1,
   "metadata": {},
   "outputs": [],
   "source": [
    "import pandas as pd\n",
    "pd.set_option('display.max_columns', None)\n",
    "pd.set_option('display.max_rows', None)"
   ]
  },
  {
   "cell_type": "code",
   "execution_count": 2,
   "metadata": {},
   "outputs": [],
   "source": [
    "# Useful columns\n",
    "\n",
    "imp_col = ['iyear', 'imonth', 'iday', 'country_txt', 'region_txt', 'provstate', 'city', 'attacktype1_txt', 'targtype1_txt', 'nkill', 'nwound', 'summary', 'motive',]\n"
   ]
  },
  {
   "cell_type": "code",
   "execution_count": 3,
   "metadata": {},
   "outputs": [
    {
     "name": "stderr",
     "output_type": "stream",
     "text": [
      "C:\\Users\\Biel Lava\\AppData\\Local\\Temp\\ipykernel_8792\\4226329721.py:2: DtypeWarning: Columns (4,6,31,33,61,62,63,76,79,90,92,94,96,114,115,121) have mixed types. Specify dtype option on import or set low_memory=False.\n",
      "  df = pd.read_csv(\"D:\\Documents\\Operation UPSKILL\\Side Projects\\Datasets\\global_terror.csv\", encoding = 'ISO-8859-1')\n"
     ]
    },
    {
     "data": {
      "text/html": [
       "<div>\n",
       "<style scoped>\n",
       "    .dataframe tbody tr th:only-of-type {\n",
       "        vertical-align: middle;\n",
       "    }\n",
       "\n",
       "    .dataframe tbody tr th {\n",
       "        vertical-align: top;\n",
       "    }\n",
       "\n",
       "    .dataframe thead th {\n",
       "        text-align: right;\n",
       "    }\n",
       "</style>\n",
       "<table border=\"1\" class=\"dataframe\">\n",
       "  <thead>\n",
       "    <tr style=\"text-align: right;\">\n",
       "      <th></th>\n",
       "      <th>iyear</th>\n",
       "      <th>imonth</th>\n",
       "      <th>iday</th>\n",
       "      <th>country_txt</th>\n",
       "      <th>region_txt</th>\n",
       "      <th>provstate</th>\n",
       "      <th>city</th>\n",
       "      <th>attacktype1_txt</th>\n",
       "      <th>targtype1_txt</th>\n",
       "      <th>nkill</th>\n",
       "      <th>nwound</th>\n",
       "      <th>summary</th>\n",
       "      <th>motive</th>\n",
       "    </tr>\n",
       "  </thead>\n",
       "  <tbody>\n",
       "    <tr>\n",
       "      <th>0</th>\n",
       "      <td>1970</td>\n",
       "      <td>7</td>\n",
       "      <td>2</td>\n",
       "      <td>Dominican Republic</td>\n",
       "      <td>Central America &amp; Caribbean</td>\n",
       "      <td>NaN</td>\n",
       "      <td>Santo Domingo</td>\n",
       "      <td>Assassination</td>\n",
       "      <td>Private Citizens &amp; Property</td>\n",
       "      <td>1.0</td>\n",
       "      <td>0.0</td>\n",
       "      <td>NaN</td>\n",
       "      <td>NaN</td>\n",
       "    </tr>\n",
       "    <tr>\n",
       "      <th>1</th>\n",
       "      <td>1970</td>\n",
       "      <td>0</td>\n",
       "      <td>0</td>\n",
       "      <td>Mexico</td>\n",
       "      <td>North America</td>\n",
       "      <td>Federal</td>\n",
       "      <td>Mexico city</td>\n",
       "      <td>Hostage Taking (Kidnapping)</td>\n",
       "      <td>Government (Diplomatic)</td>\n",
       "      <td>0.0</td>\n",
       "      <td>0.0</td>\n",
       "      <td>NaN</td>\n",
       "      <td>NaN</td>\n",
       "    </tr>\n",
       "    <tr>\n",
       "      <th>2</th>\n",
       "      <td>1970</td>\n",
       "      <td>1</td>\n",
       "      <td>0</td>\n",
       "      <td>Philippines</td>\n",
       "      <td>Southeast Asia</td>\n",
       "      <td>Tarlac</td>\n",
       "      <td>Unknown</td>\n",
       "      <td>Assassination</td>\n",
       "      <td>Journalists &amp; Media</td>\n",
       "      <td>1.0</td>\n",
       "      <td>0.0</td>\n",
       "      <td>NaN</td>\n",
       "      <td>NaN</td>\n",
       "    </tr>\n",
       "    <tr>\n",
       "      <th>3</th>\n",
       "      <td>1970</td>\n",
       "      <td>1</td>\n",
       "      <td>0</td>\n",
       "      <td>Greece</td>\n",
       "      <td>Western Europe</td>\n",
       "      <td>Attica</td>\n",
       "      <td>Athens</td>\n",
       "      <td>Bombing/Explosion</td>\n",
       "      <td>Government (Diplomatic)</td>\n",
       "      <td>NaN</td>\n",
       "      <td>NaN</td>\n",
       "      <td>NaN</td>\n",
       "      <td>NaN</td>\n",
       "    </tr>\n",
       "    <tr>\n",
       "      <th>4</th>\n",
       "      <td>1970</td>\n",
       "      <td>1</td>\n",
       "      <td>0</td>\n",
       "      <td>Japan</td>\n",
       "      <td>East Asia</td>\n",
       "      <td>Fukouka</td>\n",
       "      <td>Fukouka</td>\n",
       "      <td>Facility/Infrastructure Attack</td>\n",
       "      <td>Government (Diplomatic)</td>\n",
       "      <td>NaN</td>\n",
       "      <td>NaN</td>\n",
       "      <td>NaN</td>\n",
       "      <td>NaN</td>\n",
       "    </tr>\n",
       "  </tbody>\n",
       "</table>\n",
       "</div>"
      ],
      "text/plain": [
       "   iyear  imonth  iday         country_txt                   region_txt  \\\n",
       "0   1970       7     2  Dominican Republic  Central America & Caribbean   \n",
       "1   1970       0     0              Mexico                North America   \n",
       "2   1970       1     0         Philippines               Southeast Asia   \n",
       "3   1970       1     0              Greece               Western Europe   \n",
       "4   1970       1     0               Japan                    East Asia   \n",
       "\n",
       "  provstate           city                 attacktype1_txt  \\\n",
       "0       NaN  Santo Domingo                   Assassination   \n",
       "1   Federal    Mexico city     Hostage Taking (Kidnapping)   \n",
       "2    Tarlac        Unknown                   Assassination   \n",
       "3    Attica         Athens               Bombing/Explosion   \n",
       "4   Fukouka        Fukouka  Facility/Infrastructure Attack   \n",
       "\n",
       "                 targtype1_txt  nkill  nwound summary motive  \n",
       "0  Private Citizens & Property    1.0     0.0     NaN    NaN  \n",
       "1      Government (Diplomatic)    0.0     0.0     NaN    NaN  \n",
       "2          Journalists & Media    1.0     0.0     NaN    NaN  \n",
       "3      Government (Diplomatic)    NaN     NaN     NaN    NaN  \n",
       "4      Government (Diplomatic)    NaN     NaN     NaN    NaN  "
      ]
     },
     "execution_count": 3,
     "metadata": {},
     "output_type": "execute_result"
    }
   ],
   "source": [
    "# Creating the dataframe with the selected columns only\n",
    "df = pd.read_csv(\"D:\\Documents\\Operation UPSKILL\\Side Projects\\Datasets\\global_terror.csv\", encoding = 'ISO-8859-1')\n",
    "df = df[imp_col]\n",
    "df.head()"
   ]
  },
  {
   "cell_type": "code",
   "execution_count": 4,
   "metadata": {},
   "outputs": [
    {
     "data": {
      "text/plain": [
       "\"\\npath = 'D:\\\\Documents\\\\Operation UPSKILL\\\\Side Projects\\\\Datasets'\\n\\nphil_terror = df.loc[df['country_txt'] == 'Philippines', :]\\nphil_terror.to_csv('D:\\\\Documents\\\\Operation UPSKILL\\\\Side Projects\\\\Datasets\\\\phil_terror.csv')\\n\""
      ]
     },
     "execution_count": 4,
     "metadata": {},
     "output_type": "execute_result"
    }
   ],
   "source": [
    "# creating a separate csv for philippine data\n",
    "'''\n",
    "path = 'D:\\Documents\\Operation UPSKILL\\Side Projects\\Datasets'\n",
    "\n",
    "phil_terror = df.loc[df['country_txt'] == 'Philippines', :]\n",
    "phil_terror.to_csv('D:\\Documents\\Operation UPSKILL\\Side Projects\\Datasets\\phil_terror.csv')\n",
    "'''"
   ]
  },
  {
   "cell_type": "code",
   "execution_count": 5,
   "metadata": {},
   "outputs": [],
   "source": [
    "# using the phil_terror data for the df\n",
    "\n",
    "df = pd.read_csv('D:\\Documents\\Operation UPSKILL\\Side Projects\\Datasets\\phil_terror.csv')"
   ]
  },
  {
   "cell_type": "code",
   "execution_count": 6,
   "metadata": {},
   "outputs": [
    {
     "name": "stdout",
     "output_type": "stream",
     "text": [
      "Rows: 6908\n",
      "Columns: 14\n"
     ]
    }
   ],
   "source": [
    "# determining the number of rows and columns\n",
    "print(f'Rows: {df.shape[0]}')\n",
    "print(f'Columns: {df.shape[1]}')"
   ]
  },
  {
   "cell_type": "code",
   "execution_count": 7,
   "metadata": {},
   "outputs": [
    {
     "data": {
      "text/plain": [
       "['Unnamed: 0',\n",
       " 'iyear',\n",
       " 'imonth',\n",
       " 'iday',\n",
       " 'country_txt',\n",
       " 'region_txt',\n",
       " 'provstate',\n",
       " 'city',\n",
       " 'attacktype1_txt',\n",
       " 'targtype1_txt',\n",
       " 'nkill',\n",
       " 'nwound',\n",
       " 'summary',\n",
       " 'motive']"
      ]
     },
     "execution_count": 7,
     "metadata": {},
     "output_type": "execute_result"
    }
   ],
   "source": [
    "# Checking for names of the columns for this database\n",
    "df.columns.to_list()"
   ]
  },
  {
   "cell_type": "code",
   "execution_count": 8,
   "metadata": {},
   "outputs": [
    {
     "name": "stdout",
     "output_type": "stream",
     "text": [
      "Unnamed: 0: 0\n",
      "iyear: 0\n",
      "imonth: 0\n",
      "iday: 0\n",
      "country_txt: 0\n",
      "region_txt: 0\n",
      "provstate: 0\n",
      "city: 0\n",
      "attacktype1_txt: 0\n",
      "targtype1_txt: 0\n",
      "nkill: 214\n",
      "nwound: 303\n",
      "summary: 1938\n",
      "motive: 4554\n"
     ]
    }
   ],
   "source": [
    "# determining if there are null values in the columns \n",
    "for col in df.columns.to_list():\n",
    "    print(f'{col}: {df[col].isna().sum()}')\n"
   ]
  },
  {
   "cell_type": "code",
   "execution_count": 9,
   "metadata": {},
   "outputs": [
    {
     "name": "stdout",
     "output_type": "stream",
     "text": [
      "Unnamed: 0         False\n",
      "iyear              False\n",
      "imonth             False\n",
      "iday               False\n",
      "country_txt        False\n",
      "region_txt         False\n",
      "provstate          False\n",
      "city               False\n",
      "attacktype1_txt    False\n",
      "targtype1_txt      False\n",
      "nkill               True\n",
      "nwound              True\n",
      "summary             True\n",
      "motive              True\n",
      "dtype: bool\n"
     ]
    }
   ],
   "source": [
    "# checking all the column if a column contains a null \n",
    "print(df.isnull().any())"
   ]
  },
  {
   "cell_type": "code",
   "execution_count": 10,
   "metadata": {},
   "outputs": [
    {
     "data": {
      "text/plain": [
       "6908"
      ]
     },
     "execution_count": 10,
     "metadata": {},
     "output_type": "execute_result"
    }
   ],
   "source": [
    "# Determining the number of entries for the Philippines\n",
    "len(df[df['country_txt'] == 'Philippines'])"
   ]
  },
  {
   "cell_type": "code",
   "execution_count": 11,
   "metadata": {},
   "outputs": [
    {
     "data": {
      "text/plain": [
       "46"
      ]
     },
     "execution_count": 11,
     "metadata": {},
     "output_type": "execute_result"
    }
   ],
   "source": [
    "# getting the years where attack in the philipines occured\n",
    "\n",
    "df.loc[df['country_txt'] == 'Philippines', 'iyear'].nunique()\n"
   ]
  },
  {
   "cell_type": "markdown",
   "metadata": {},
   "source": [
    "## Analyzing the relevant columns for the attack background"
   ]
  },
  {
   "cell_type": "code",
   "execution_count": 12,
   "metadata": {},
   "outputs": [
    {
     "name": "stdout",
     "output_type": "stream",
     "text": [
      "iyear: 0\n",
      "provstate: 0\n",
      "city: 0\n",
      "attacktype1_txt: 0\n",
      "targtype1_txt: 0\n",
      "summary: 1938\n",
      "motive: 4554\n"
     ]
    }
   ],
   "source": [
    "# getting the number of nulls per column\n",
    "attack_bg = ['iyear', 'provstate', 'city', 'attacktype1_txt', 'targtype1_txt', 'summary', 'motive']\n",
    "\n",
    "for col in attack_bg: \n",
    "    print(f'{col}: {df.loc[df[\"country_txt\"] == \"Philippines\", col].isna().sum()}')\n"
   ]
  },
  {
   "cell_type": "code",
   "execution_count": 13,
   "metadata": {},
   "outputs": [
    {
     "name": "stdout",
     "output_type": "stream",
     "text": [
      "iyear: 0\n",
      "provstate: 0\n",
      "city: 0\n",
      "attacktype1_txt: 0\n",
      "targtype1_txt: 0\n",
      "summary: 1938\n",
      "motive: 4554\n"
     ]
    }
   ],
   "source": [
    "# determining the unique values in the relevant columns\n",
    "# getting the number of nulls per column\n",
    "attack_bg = ['iyear', 'provstate', 'city', 'attacktype1_txt', 'targtype1_txt', 'summary', 'motive']\n",
    "\n",
    "for col in attack_bg: \n",
    "    print(f'{col}: {df.loc[df[\"country_txt\"] == \"Philippines\", col].isna().sum()}')"
   ]
  },
  {
   "cell_type": "code",
   "execution_count": 14,
   "metadata": {},
   "outputs": [
    {
     "data": {
      "text/plain": [
       "2015    721\n",
       "2017    692\n",
       "2013    651\n",
       "2016    632\n",
       "2014    597\n",
       "1990    320\n",
       "2008    276\n",
       "2012    249\n",
       "2009    229\n",
       "1988    210\n",
       "2010    205\n",
       "1991    162\n",
       "1992    162\n",
       "1987    160\n",
       "1989    156\n",
       "2011    151\n",
       "2000    132\n",
       "1985    124\n",
       "2003    107\n",
       "1986     80\n",
       "1994     72\n",
       "2007     65\n",
       "1995     63\n",
       "1996     61\n",
       "1980     60\n",
       "2006     58\n",
       "1997     57\n",
       "1979     50\n",
       "2001     50\n",
       "2002     48\n",
       "1984     43\n",
       "1982     38\n",
       "1978     36\n",
       "2004     32\n",
       "1981     31\n",
       "1999     31\n",
       "2005     25\n",
       "1998     18\n",
       "1983     16\n",
       "1976     10\n",
       "1970     10\n",
       "1972      7\n",
       "1975      4\n",
       "1971      4\n",
       "1977      2\n",
       "1974      1\n",
       "Name: iyear, dtype: int64"
      ]
     },
     "execution_count": 14,
     "metadata": {},
     "output_type": "execute_result"
    }
   ],
   "source": [
    "# getting the count of each unique value in the year column\n",
    "\n",
    "df.loc[df[\"country_txt\"] == \"Philippines\", 'iyear'].value_counts()"
   ]
  },
  {
   "cell_type": "markdown",
   "metadata": {},
   "source": [
    "### Processing the entries for Country columns"
   ]
  },
  {
   "cell_type": "code",
   "execution_count": 15,
   "metadata": {},
   "outputs": [
    {
     "data": {
      "text/plain": [
       "216                     Abra\n",
       "316          Aguasan Del Sur\n",
       "340         Agusan del Norte\n",
       "1547          Agusan del Sur\n",
       "917                    Aklan\n",
       "616                    Albay\n",
       "1190                 Antique\n",
       "344                   Apayao\n",
       "1462                  Aurora\n",
       "25                   Basilan\n",
       "352                   Bataan\n",
       "613                 Batangas\n",
       "159                  Benguet\n",
       "2383                   Bicol\n",
       "726                  Biliran\n",
       "873                    Bohol\n",
       "250                 Bukidnon\n",
       "430                  Bulacan\n",
       "348                  Cagayan\n",
       "910          Camarines Norte\n",
       "275            Camarines Sur\n",
       "457                 Camiguin\n",
       "7                      Capiz\n",
       "2196             Catanduanes\n",
       "179                   Cavite\n",
       "311                     Cebu\n",
       "1987       Compostela Valley\n",
       "305                    Davao\n",
       "2529           Davao Del Sur\n",
       "4419        Davao Occidental\n",
       "66            Davao Oriental\n",
       "3350            Davao Region\n",
       "69           Davao del Norte\n",
       "30             Davao del Sur\n",
       "210            Eastern Samar\n",
       "593                 Guimaras\n",
       "26                    Ifugao\n",
       "2991                  Iligan\n",
       "328             Ilocos Norte\n",
       "574               Ilocos Sur\n",
       "413                   Iloilo\n",
       "16                   Isabela\n",
       "68                   Kalinga\n",
       "417           Kalinga Apayao\n",
       "2574          Kalinga-Apayao\n",
       "2871                La Union\n",
       "826                   Laguna\n",
       "84           Lanao del Norte\n",
       "51             Lanao del Sur\n",
       "442                    Leyte\n",
       "2158                   Lupon\n",
       "40               Maguindanao\n",
       "909                  Masbate\n",
       "1        Metropolitan Manila\n",
       "3       Metropolitian Manila\n",
       "3297         Mindanao Island\n",
       "130       Misamis Occidental\n",
       "29          Misamis Oriental\n",
       "756        Mountain Province\n",
       "276        Negros Occidental\n",
       "458          Negros Oriental\n",
       "2444          North Catobato\n",
       "64            North Cotabato\n",
       "114           Northern Samar\n",
       "70               Nueva Ecija\n",
       "436            Nueva Vizcaya\n",
       "729       Occidental Mindoro\n",
       "456         Oriental Mindoro\n",
       "1159                 Palawan\n",
       "4                   Pampanga\n",
       "708               Pangasinan\n",
       "561                   Quezon\n",
       "3344         Quezon Province\n",
       "6378                 Quirino\n",
       "1453                   Rizal\n",
       "3261                 Romblon\n",
       "174                    Samar\n",
       "1549               Sarangani\n",
       "4872                Siquijor\n",
       "796                 Sorsogon\n",
       "183           South Cotabato\n",
       "735           Southern Leyte\n",
       "73            Sultan Kudarat\n",
       "2461          Sultan Kudurat\n",
       "48                      Sulu\n",
       "964        Surigao del Norte\n",
       "299          Surigao del Sur\n",
       "0                     Tarlac\n",
       "86                 Tawi Tawi\n",
       "3377               Tawi-Tawi\n",
       "6                    Unknown\n",
       "21                  Zambales\n",
       "415        Zamboanga Sibugay\n",
       "103      Zamboanga del Norte\n",
       "23         Zamboanga del Sur\n",
       "Name: provstate, dtype: object"
      ]
     },
     "execution_count": 15,
     "metadata": {},
     "output_type": "execute_result"
    }
   ],
   "source": [
    "# getting the count of each unique value in the provstate column\n",
    "#df.loc[df[\"country_txt\"] == \"Philippines\", 'provstate'].value_counts() \n",
    "df.loc[df[\"country_txt\"] == \"Philippines\", 'provstate'].drop_duplicates().sort_values()"
   ]
  },
  {
   "cell_type": "code",
   "execution_count": 16,
   "metadata": {},
   "outputs": [
    {
     "name": "stdout",
     "output_type": "stream",
     "text": [
      "<class 'pandas.core.frame.DataFrame'>\n",
      "RangeIndex: 85 entries, 0 to 84\n",
      "Data columns (total 13 columns):\n",
      " #   Column                              Non-Null Count  Dtype \n",
      "---  ------                              --------------  ----- \n",
      " 0   (ISO[4], Unnamed: 0_level_1)        85 non-null     object\n",
      " 1   (Province, Unnamed: 1_level_1)      85 non-null     object\n",
      " 2   (Capital, Unnamed: 2_level_1)       85 non-null     object\n",
      " 3   (Population[5], %)                  2 non-null      object\n",
      " 4   (Population[5], (2020))             85 non-null     object\n",
      " 5   (Area[6], Unnamed: 5_level_1)       85 non-null     object\n",
      " 6   (Density, Unnamed: 6_level_1)       85 non-null     object\n",
      " 7   (Founded[A], Unnamed: 7_level_1)    85 non-null     object\n",
      " 8   (Island group, Unnamed: 8_level_1)  85 non-null     object\n",
      " 9   (Region, Unnamed: 9_level_1)        85 non-null     object\n",
      " 10  (Total LGUs, Mun.)                  85 non-null     object\n",
      " 11  (Total LGUs, City)                  85 non-null     object\n",
      " 12  (Total LGUs, Brgy.)                 85 non-null     object\n",
      "dtypes: object(13)\n",
      "memory usage: 8.8+ KB\n"
     ]
    }
   ],
   "source": [
    "# creation of a reference list of provinces in the philippines\n",
    "link = 'https://en.wikipedia.org/wiki/Provinces_of_the_Philippines'\n",
    "trial = pd.read_html(link)\n",
    "trial[3].info()"
   ]
  },
  {
   "cell_type": "code",
   "execution_count": 23,
   "metadata": {},
   "outputs": [],
   "source": [
    "# creation of a csv for reference list of provinces in the philippines\n",
    "link = 'https://en.wikipedia.org/wiki/Provinces_of_the_Philippines'\n",
    "trial = pd.read_html(link) # will create a dataframe from the link\n",
    "df_prov = trial[3].iloc[0:83, 0:2] # will create a new data frame from the third table (table nung provinces) and slice the row and column\n",
    "df_prov.to_csv('D:\\Documents\\Operation UPSKILL\\Side Projects\\Terrorism Project\\prov1.csv')"
   ]
  },
  {
   "cell_type": "code",
   "execution_count": 29,
   "metadata": {},
   "outputs": [],
   "source": [
    "# cleaning and updating province csv\n",
    "df = pd.read_csv('D:\\Documents\\Operation UPSKILL\\Side Projects\\Terrorism Project\\prov1.csv')\n",
    "df.drop('Unnamed: 0', axis=1, inplace= True) # removing unwanted column\n"
   ]
  },
  {
   "cell_type": "code",
   "execution_count": 32,
   "metadata": {},
   "outputs": [],
   "source": [
    "# removing extra row (nadamay dun sa mahabang pangalan nung column)\n",
    "df.drop(0, axis=0, inplace= True) "
   ]
  },
  {
   "cell_type": "code",
   "execution_count": 34,
   "metadata": {},
   "outputs": [],
   "source": [
    "# renaming columns\n",
    "df.rename(columns={'ISO[4]':'ISO'}, inplace= True)"
   ]
  },
  {
   "cell_type": "code",
   "execution_count": null,
   "metadata": {},
   "outputs": [],
   "source": [
    "# cleaning the province column removing the footnote eme\n",
    "df['Province'] = df['Province'].map(lambda x: x.rstrip('[]]xiv'))"
   ]
  },
  {
   "cell_type": "code",
   "execution_count": 41,
   "metadata": {},
   "outputs": [],
   "source": [
    "# creating a final reference csv for the provinces\n",
    "df.to_csv('D:\\Documents\\Operation UPSKILL\\Side Projects\\Terrorism Project\\province.csv')"
   ]
  },
  {
   "cell_type": "code",
   "execution_count": null,
   "metadata": {},
   "outputs": [],
   "source": []
  }
 ],
 "metadata": {
  "kernelspec": {
   "display_name": "Python 3",
   "language": "python",
   "name": "python3"
  },
  "language_info": {
   "codemirror_mode": {
    "name": "ipython",
    "version": 3
   },
   "file_extension": ".py",
   "mimetype": "text/x-python",
   "name": "python",
   "nbconvert_exporter": "python",
   "pygments_lexer": "ipython3",
   "version": "3.11.0"
  }
 },
 "nbformat": 4,
 "nbformat_minor": 2
}
