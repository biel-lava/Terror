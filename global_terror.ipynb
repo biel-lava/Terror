{
 "cells": [
  {
   "cell_type": "code",
   "execution_count": null,
   "metadata": {},
   "outputs": [],
   "source": [
    "import pandas as pd\n",
    "pd.set_option('display.max_columns', None)\n",
    "pd.set_option('display.max_rows', None)"
   ]
  },
  {
   "cell_type": "code",
   "execution_count": null,
   "metadata": {},
   "outputs": [],
   "source": [
    "# Useful columns\n",
    "\n",
    "imp_col = ['iyear', 'imonth', 'iday', 'country_txt', 'region_txt', 'provstate', 'city', 'attacktype1_txt', 'targtype1_txt', 'nkill', 'nwound', 'summary', 'motive',]\n"
   ]
  },
  {
   "cell_type": "code",
   "execution_count": null,
   "metadata": {},
   "outputs": [],
   "source": [
    "# Creating the dataframe with the selected columns only\n",
    "df_global = pd.read_csv(\"D:\\Documents\\Operation UPSKILL\\Side Projects\\Datasets\\global_terror.csv\", encoding = 'ISO-8859-1')\n",
    "df_global = df_global[imp_col]\n",
    "df_global.head()"
   ]
  },
  {
   "cell_type": "code",
   "execution_count": null,
   "metadata": {},
   "outputs": [],
   "source": [
    "# creating a separate csv for philippine data\n",
    "'''\n",
    "path = 'D:\\Documents\\Operation UPSKILL\\Side Projects\\Datasets'\n",
    "\n",
    "phil_terror = df.loc[df['country_txt'] == 'Philippines', :]\n",
    "phil_terror.to_csv('D:\\Documents\\Operation UPSKILL\\Side Projects\\Datasets\\phil_terror.csv')\n",
    "'''"
   ]
  },
  {
   "cell_type": "code",
   "execution_count": null,
   "metadata": {},
   "outputs": [],
   "source": [
    "# creating a separate csv for philippine data using mask\n",
    "\n",
    "mask = df_global['country_txt'] == 'Philippines'\n",
    "df_phil = df_global[mask]\n",
    "#df_phil.to_csv('D:\\Documents\\Operation UPSKILL\\Side Projects\\Datasets\\phil_terror.csv')"
   ]
  },
  {
   "cell_type": "code",
   "execution_count": null,
   "metadata": {},
   "outputs": [],
   "source": [
    "# using the phil_terror data for the df\n",
    "\n",
    "df = pd.read_csv('D:\\Documents\\Operation UPSKILL\\Side Projects\\Datasets\\phil_terror.csv')"
   ]
  },
  {
   "cell_type": "code",
   "execution_count": null,
   "metadata": {},
   "outputs": [],
   "source": [
    "# determining the number of rows and columns\n",
    "print(f'Rows: {df.shape[0]}')\n",
    "print(f'Columns: {df.shape[1]}')"
   ]
  },
  {
   "cell_type": "code",
   "execution_count": null,
   "metadata": {},
   "outputs": [],
   "source": [
    "# Checking for names of the columns for this database\n",
    "df.columns.to_list()"
   ]
  },
  {
   "cell_type": "code",
   "execution_count": null,
   "metadata": {},
   "outputs": [],
   "source": [
    "# determining if there are null values in the columns \n",
    "for col in df.columns.to_list():\n",
    "    print(f'{col}: {df[col].isna().sum()}')\n"
   ]
  },
  {
   "cell_type": "code",
   "execution_count": null,
   "metadata": {},
   "outputs": [],
   "source": [
    "# checking all the column if a column contains a null \n",
    "print(df.isnull().any())"
   ]
  },
  {
   "cell_type": "code",
   "execution_count": null,
   "metadata": {},
   "outputs": [],
   "source": [
    "# Determining the number of entries for the Philippines\n",
    "len(df[df['country_txt'] == 'Philippines'])"
   ]
  },
  {
   "cell_type": "code",
   "execution_count": null,
   "metadata": {},
   "outputs": [],
   "source": [
    "# getting the years where attack in the philipines occured\n",
    "\n",
    "df.loc[df['country_txt'] == 'Philippines', 'iyear'].nunique()\n"
   ]
  },
  {
   "cell_type": "markdown",
   "metadata": {},
   "source": [
    "## Analyzing the relevant columns for the attack background"
   ]
  },
  {
   "cell_type": "code",
   "execution_count": null,
   "metadata": {},
   "outputs": [],
   "source": [
    "# getting the number of nulls per column\n",
    "attack_bg = ['iyear', 'provstate', 'city', 'attacktype1_txt', 'targtype1_txt', 'summary', 'motive']\n",
    "\n",
    "for col in attack_bg: \n",
    "    print(f'{col}: {df.loc[df[\"country_txt\"] == \"Philippines\", col].isna().sum()}')\n"
   ]
  },
  {
   "cell_type": "code",
   "execution_count": null,
   "metadata": {},
   "outputs": [],
   "source": [
    "# determining the unique values in the relevant columns\n",
    "# getting the number of nulls per column\n",
    "attack_bg = ['iyear', 'provstate', 'city', 'attacktype1_txt', 'targtype1_txt', 'summary', 'motive']\n",
    "\n",
    "for col in attack_bg: \n",
    "    print(f'{col}: {df.loc[df[\"country_txt\"] == \"Philippines\", col].isna().sum()}')"
   ]
  },
  {
   "cell_type": "code",
   "execution_count": null,
   "metadata": {},
   "outputs": [],
   "source": [
    "# getting the count of each unique value in the year column\n",
    "\n",
    "df.loc[df[\"country_txt\"] == \"Philippines\", 'iyear'].value_counts()"
   ]
  },
  {
   "cell_type": "markdown",
   "metadata": {},
   "source": [
    "### Processing the entries for Country columns"
   ]
  },
  {
   "cell_type": "code",
   "execution_count": null,
   "metadata": {},
   "outputs": [],
   "source": [
    "# getting the count of each unique value in the provstate column\n",
    "#df.loc[df[\"country_txt\"] == \"Philippines\", 'provstate'].value_counts() \n",
    "df.loc[df[\"country_txt\"] == \"Philippines\", 'provstate'].drop_duplicates().sort_values()"
   ]
  },
  {
   "cell_type": "code",
   "execution_count": null,
   "metadata": {},
   "outputs": [],
   "source": [
    "# creation of a reference list of provinces in the philippines\n",
    "link = 'https://en.wikipedia.org/wiki/Provinces_of_the_Philippines'\n",
    "trial = pd.read_html(link)\n",
    "trial[3].info()"
   ]
  },
  {
   "cell_type": "code",
   "execution_count": null,
   "metadata": {},
   "outputs": [],
   "source": [
    "# creation of a csv for reference list of provinces in the philippines\n",
    "\n",
    "# link = 'https://en.wikipedia.org/wiki/Provinces_of_the_Philippines'\n",
    "# trial = pd.read_html(link) # will create a dataframe from the link\n",
    "# df_prov = trial[3].iloc[0:83, 0:2] # will create a new data frame from the third table (table nung provinces) and slice the row and column\n",
    "# df_prov.to_csv('D:\\Documents\\Operation UPSKILL\\Side Projects\\Terrorism Project\\prov1.csv')"
   ]
  },
  {
   "cell_type": "code",
   "execution_count": null,
   "metadata": {},
   "outputs": [],
   "source": [
    "# cleaning and updating province csv\n",
    "\n",
    "# df = pd.read_csv('D:\\Documents\\Operation UPSKILL\\Side Projects\\Terrorism Project\\prov1.csv')\n",
    "# df.drop('Unnamed: 0', axis=1, inplace= True) # removing unwanted column\n"
   ]
  },
  {
   "cell_type": "code",
   "execution_count": null,
   "metadata": {},
   "outputs": [],
   "source": [
    "# removing extra row (nadamay dun sa mahabang pangalan nung column)\n",
    "\n",
    "# df.drop(0, axis=0, inplace= True) "
   ]
  },
  {
   "cell_type": "code",
   "execution_count": null,
   "metadata": {},
   "outputs": [],
   "source": [
    "# renaming columns\n",
    "\n",
    "# df.rename(columns={'ISO[4]':'ISO'}, inplace= True)"
   ]
  },
  {
   "cell_type": "code",
   "execution_count": null,
   "metadata": {},
   "outputs": [],
   "source": [
    "# cleaning the province column removing the footnote eme\n",
    "\n",
    "# df['Province'] = df['Province'].map(lambda x: x.rstrip('[]]xiv'))"
   ]
  },
  {
   "cell_type": "code",
   "execution_count": null,
   "metadata": {},
   "outputs": [],
   "source": [
    "# creating a final reference csv for the provinces\n",
    "\n",
    "# df.to_csv('D:\\Documents\\Operation UPSKILL\\Side Projects\\Terrorism Project\\province.csv')"
   ]
  },
  {
   "cell_type": "markdown",
   "metadata": {},
   "source": [
    "## Cleaning of province column from the data"
   ]
  },
  {
   "cell_type": "code",
   "execution_count": null,
   "metadata": {},
   "outputs": [],
   "source": []
  }
 ],
 "metadata": {
  "kernelspec": {
   "display_name": "Python 3",
   "language": "python",
   "name": "python3"
  },
  "language_info": {
   "codemirror_mode": {
    "name": "ipython",
    "version": 3
   },
   "file_extension": ".py",
   "mimetype": "text/x-python",
   "name": "python",
   "nbconvert_exporter": "python",
   "pygments_lexer": "ipython3",
   "version": "3.11.0"
  }
 },
 "nbformat": 4,
 "nbformat_minor": 2
}
