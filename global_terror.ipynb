{
 "cells": [
  {
   "cell_type": "code",
   "execution_count": 6,
   "metadata": {},
   "outputs": [],
   "source": [
    "import pandas as pd"
   ]
  },
  {
   "cell_type": "code",
   "execution_count": 7,
   "metadata": {},
   "outputs": [
    {
     "data": {
      "text/plain": [
       "\"\\n['iyear', 'imonth', 'iday', 'country_txt', 'region_txt', 'provstate', 'city', 'attacktype1_txt', 'targtype1_txt', 'nkill', 'nwound', 'summary', 'motive',]\\n\""
      ]
     },
     "execution_count": 7,
     "metadata": {},
     "output_type": "execute_result"
    }
   ],
   "source": [
    "# Useful columns\n",
    "'''\n",
    "['iyear', 'imonth', 'iday', 'country_txt', 'region_txt', 'provstate', 'city', 'attacktype1_txt', 'targtype1_txt', 'nkill', 'nwound', 'summary', 'motive',]\n",
    "'''"
   ]
  },
  {
   "cell_type": "code",
   "execution_count": 25,
   "metadata": {},
   "outputs": [
    {
     "name": "stderr",
     "output_type": "stream",
     "text": [
      "C:\\Users\\Biel Lava\\AppData\\Local\\Temp\\ipykernel_25232\\721412205.py:5: DtypeWarning: Columns (4,6,31,33,61,62,63,76,79,90,92,94,96,114,115,121) have mixed types. Specify dtype option on import or set low_memory=False.\n",
      "  df = pd.read_csv(\"D:\\Documents\\Operation UPSKILL\\Side Projects\\Datasets\\global_terror.csv\", encoding = 'ISO-8859-1')\n"
     ]
    },
    {
     "data": {
      "text/html": [
       "<div>\n",
       "<style scoped>\n",
       "    .dataframe tbody tr th:only-of-type {\n",
       "        vertical-align: middle;\n",
       "    }\n",
       "\n",
       "    .dataframe tbody tr th {\n",
       "        vertical-align: top;\n",
       "    }\n",
       "\n",
       "    .dataframe thead th {\n",
       "        text-align: right;\n",
       "    }\n",
       "</style>\n",
       "<table border=\"1\" class=\"dataframe\">\n",
       "  <thead>\n",
       "    <tr style=\"text-align: right;\">\n",
       "      <th></th>\n",
       "      <th>iyear</th>\n",
       "      <th>imonth</th>\n",
       "      <th>iday</th>\n",
       "      <th>country_txt</th>\n",
       "      <th>region_txt</th>\n",
       "      <th>provstate</th>\n",
       "      <th>city</th>\n",
       "      <th>attacktype1_txt</th>\n",
       "      <th>targtype1_txt</th>\n",
       "      <th>nkill</th>\n",
       "      <th>nwound</th>\n",
       "      <th>summary</th>\n",
       "      <th>motive</th>\n",
       "    </tr>\n",
       "  </thead>\n",
       "  <tbody>\n",
       "    <tr>\n",
       "      <th>0</th>\n",
       "      <td>1970</td>\n",
       "      <td>7</td>\n",
       "      <td>2</td>\n",
       "      <td>Dominican Republic</td>\n",
       "      <td>Central America &amp; Caribbean</td>\n",
       "      <td>NaN</td>\n",
       "      <td>Santo Domingo</td>\n",
       "      <td>Assassination</td>\n",
       "      <td>Private Citizens &amp; Property</td>\n",
       "      <td>1.0</td>\n",
       "      <td>0.0</td>\n",
       "      <td>NaN</td>\n",
       "      <td>NaN</td>\n",
       "    </tr>\n",
       "    <tr>\n",
       "      <th>1</th>\n",
       "      <td>1970</td>\n",
       "      <td>0</td>\n",
       "      <td>0</td>\n",
       "      <td>Mexico</td>\n",
       "      <td>North America</td>\n",
       "      <td>Federal</td>\n",
       "      <td>Mexico city</td>\n",
       "      <td>Hostage Taking (Kidnapping)</td>\n",
       "      <td>Government (Diplomatic)</td>\n",
       "      <td>0.0</td>\n",
       "      <td>0.0</td>\n",
       "      <td>NaN</td>\n",
       "      <td>NaN</td>\n",
       "    </tr>\n",
       "    <tr>\n",
       "      <th>2</th>\n",
       "      <td>1970</td>\n",
       "      <td>1</td>\n",
       "      <td>0</td>\n",
       "      <td>Philippines</td>\n",
       "      <td>Southeast Asia</td>\n",
       "      <td>Tarlac</td>\n",
       "      <td>Unknown</td>\n",
       "      <td>Assassination</td>\n",
       "      <td>Journalists &amp; Media</td>\n",
       "      <td>1.0</td>\n",
       "      <td>0.0</td>\n",
       "      <td>NaN</td>\n",
       "      <td>NaN</td>\n",
       "    </tr>\n",
       "    <tr>\n",
       "      <th>3</th>\n",
       "      <td>1970</td>\n",
       "      <td>1</td>\n",
       "      <td>0</td>\n",
       "      <td>Greece</td>\n",
       "      <td>Western Europe</td>\n",
       "      <td>Attica</td>\n",
       "      <td>Athens</td>\n",
       "      <td>Bombing/Explosion</td>\n",
       "      <td>Government (Diplomatic)</td>\n",
       "      <td>NaN</td>\n",
       "      <td>NaN</td>\n",
       "      <td>NaN</td>\n",
       "      <td>NaN</td>\n",
       "    </tr>\n",
       "    <tr>\n",
       "      <th>4</th>\n",
       "      <td>1970</td>\n",
       "      <td>1</td>\n",
       "      <td>0</td>\n",
       "      <td>Japan</td>\n",
       "      <td>East Asia</td>\n",
       "      <td>Fukouka</td>\n",
       "      <td>Fukouka</td>\n",
       "      <td>Facility/Infrastructure Attack</td>\n",
       "      <td>Government (Diplomatic)</td>\n",
       "      <td>NaN</td>\n",
       "      <td>NaN</td>\n",
       "      <td>NaN</td>\n",
       "      <td>NaN</td>\n",
       "    </tr>\n",
       "  </tbody>\n",
       "</table>\n",
       "</div>"
      ],
      "text/plain": [
       "   iyear  imonth  iday         country_txt                   region_txt  \\\n",
       "0   1970       7     2  Dominican Republic  Central America & Caribbean   \n",
       "1   1970       0     0              Mexico                North America   \n",
       "2   1970       1     0         Philippines               Southeast Asia   \n",
       "3   1970       1     0              Greece               Western Europe   \n",
       "4   1970       1     0               Japan                    East Asia   \n",
       "\n",
       "  provstate           city                 attacktype1_txt  \\\n",
       "0       NaN  Santo Domingo                   Assassination   \n",
       "1   Federal    Mexico city     Hostage Taking (Kidnapping)   \n",
       "2    Tarlac        Unknown                   Assassination   \n",
       "3    Attica         Athens               Bombing/Explosion   \n",
       "4   Fukouka        Fukouka  Facility/Infrastructure Attack   \n",
       "\n",
       "                 targtype1_txt  nkill  nwound summary motive  \n",
       "0  Private Citizens & Property    1.0     0.0     NaN    NaN  \n",
       "1      Government (Diplomatic)    0.0     0.0     NaN    NaN  \n",
       "2          Journalists & Media    1.0     0.0     NaN    NaN  \n",
       "3      Government (Diplomatic)    NaN     NaN     NaN    NaN  \n",
       "4      Government (Diplomatic)    NaN     NaN     NaN    NaN  "
      ]
     },
     "execution_count": 25,
     "metadata": {},
     "output_type": "execute_result"
    }
   ],
   "source": [
    "# Creating the dataframe using the full csv file\n",
    "#df = pd.read_csv(\"D:\\Documents\\Operation UPSKILL\\Side Projects\\Datasets\\global_terror.csv\", encoding = 'ISO-8859-1', names=['iyear', 'imonth', 'iday', 'country_txt', 'region_txt', 'provstate', 'city', 'attacktype1_txt', 'targtype1_txt', 'nkill', 'nwound', 'summary', 'motive'], header= 0)\n",
    "\n",
    "# Creating the dataframe with the selected columns only\n",
    "df = pd.read_csv(\"D:\\Documents\\Operation UPSKILL\\Side Projects\\Datasets\\global_terror.csv\", encoding = 'ISO-8859-1')\n",
    "df = df[['iyear', 'imonth', 'iday', 'country_txt', 'region_txt', 'provstate', 'city', 'attacktype1_txt', 'targtype1_txt', 'nkill', 'nwound', 'summary', 'motive',]]\n",
    "df.head()"
   ]
  },
  {
   "cell_type": "code",
   "execution_count": 26,
   "metadata": {},
   "outputs": [
    {
     "data": {
      "text/plain": [
       "['iyear',\n",
       " 'imonth',\n",
       " 'iday',\n",
       " 'country_txt',\n",
       " 'region_txt',\n",
       " 'provstate',\n",
       " 'city',\n",
       " 'attacktype1_txt',\n",
       " 'targtype1_txt',\n",
       " 'nkill',\n",
       " 'nwound',\n",
       " 'summary',\n",
       " 'motive']"
      ]
     },
     "execution_count": 26,
     "metadata": {},
     "output_type": "execute_result"
    }
   ],
   "source": [
    "# Checking for names of the columns for this database\n",
    "df.columns.to_list()"
   ]
  },
  {
   "cell_type": "code",
   "execution_count": 27,
   "metadata": {},
   "outputs": [
    {
     "data": {
      "text/plain": [
       "6908"
      ]
     },
     "execution_count": 27,
     "metadata": {},
     "output_type": "execute_result"
    }
   ],
   "source": [
    "# Determining the number of entries for the Philippines\n",
    "len(df[df['country_txt'] == 'Philippines'])"
   ]
  },
  {
   "cell_type": "code",
   "execution_count": 36,
   "metadata": {},
   "outputs": [
    {
     "ename": "AttributeError",
     "evalue": "'DataFrame' object has no attribute 'unique'",
     "output_type": "error",
     "traceback": [
      "\u001b[1;31m---------------------------------------------------------------------------\u001b[0m",
      "\u001b[1;31mAttributeError\u001b[0m                            Traceback (most recent call last)",
      "\u001b[1;32m~\\AppData\\Local\\Temp\\ipykernel_25232\\3593376005.py\u001b[0m in \u001b[0;36m?\u001b[1;34m()\u001b[0m\n\u001b[0;32m      1\u001b[0m \u001b[1;31m# getting the years where attack in the philipines occured\u001b[0m\u001b[1;33m\u001b[0m\u001b[1;33m\u001b[0m\u001b[0m\n\u001b[0;32m      2\u001b[0m \u001b[1;33m\u001b[0m\u001b[0m\n\u001b[1;32m----> 3\u001b[1;33m \u001b[0mdf\u001b[0m\u001b[1;33m.\u001b[0m\u001b[0mloc\u001b[0m\u001b[1;33m[\u001b[0m\u001b[0mdf\u001b[0m\u001b[1;33m[\u001b[0m\u001b[1;34m'country_txt'\u001b[0m\u001b[1;33m]\u001b[0m \u001b[1;33m==\u001b[0m \u001b[1;34m'Philippines'\u001b[0m\u001b[1;33m,\u001b[0m \u001b[1;33m[\u001b[0m\u001b[1;34m'iyear'\u001b[0m\u001b[1;33m]\u001b[0m\u001b[1;33m]\u001b[0m\u001b[1;33m.\u001b[0m\u001b[0munique\u001b[0m\u001b[1;33m(\u001b[0m\u001b[1;33m)\u001b[0m\u001b[1;33m\u001b[0m\u001b[1;33m\u001b[0m\u001b[0m\n\u001b[0m",
      "\u001b[1;32mc:\\Users\\Biel Lava\\AppData\\Local\\Programs\\Python\\Python311\\Lib\\site-packages\\pandas\\core\\generic.py\u001b[0m in \u001b[0;36m?\u001b[1;34m(self, name)\u001b[0m\n\u001b[0;32m   5898\u001b[0m             \u001b[1;32mand\u001b[0m \u001b[0mname\u001b[0m \u001b[1;32mnot\u001b[0m \u001b[1;32min\u001b[0m \u001b[0mself\u001b[0m\u001b[1;33m.\u001b[0m\u001b[0m_accessors\u001b[0m\u001b[1;33m\u001b[0m\u001b[1;33m\u001b[0m\u001b[0m\n\u001b[0;32m   5899\u001b[0m             \u001b[1;32mand\u001b[0m \u001b[0mself\u001b[0m\u001b[1;33m.\u001b[0m\u001b[0m_info_axis\u001b[0m\u001b[1;33m.\u001b[0m\u001b[0m_can_hold_identifiers_and_holds_name\u001b[0m\u001b[1;33m(\u001b[0m\u001b[0mname\u001b[0m\u001b[1;33m)\u001b[0m\u001b[1;33m\u001b[0m\u001b[1;33m\u001b[0m\u001b[0m\n\u001b[0;32m   5900\u001b[0m         ):\n\u001b[0;32m   5901\u001b[0m             \u001b[1;32mreturn\u001b[0m \u001b[0mself\u001b[0m\u001b[1;33m[\u001b[0m\u001b[0mname\u001b[0m\u001b[1;33m]\u001b[0m\u001b[1;33m\u001b[0m\u001b[1;33m\u001b[0m\u001b[0m\n\u001b[1;32m-> 5902\u001b[1;33m         \u001b[1;32mreturn\u001b[0m \u001b[0mobject\u001b[0m\u001b[1;33m.\u001b[0m\u001b[0m__getattribute__\u001b[0m\u001b[1;33m(\u001b[0m\u001b[0mself\u001b[0m\u001b[1;33m,\u001b[0m \u001b[0mname\u001b[0m\u001b[1;33m)\u001b[0m\u001b[1;33m\u001b[0m\u001b[1;33m\u001b[0m\u001b[0m\n\u001b[0m",
      "\u001b[1;31mAttributeError\u001b[0m: 'DataFrame' object has no attribute 'unique'"
     ]
    }
   ],
   "source": [
    "# getting the years where attack in the philipines occured\n",
    "\n",
    "df.loc[df['country_txt'] == 'Philippines', 'iyear'\n",
    "       ].unique()\n"
   ]
  },
  {
   "cell_type": "code",
   "execution_count": null,
   "metadata": {},
   "outputs": [],
   "source": []
  }
 ],
 "metadata": {
  "kernelspec": {
   "display_name": "Python 3",
   "language": "python",
   "name": "python3"
  },
  "language_info": {
   "codemirror_mode": {
    "name": "ipython",
    "version": 3
   },
   "file_extension": ".py",
   "mimetype": "text/x-python",
   "name": "python",
   "nbconvert_exporter": "python",
   "pygments_lexer": "ipython3",
   "version": "3.11.0"
  }
 },
 "nbformat": 4,
 "nbformat_minor": 2
}
